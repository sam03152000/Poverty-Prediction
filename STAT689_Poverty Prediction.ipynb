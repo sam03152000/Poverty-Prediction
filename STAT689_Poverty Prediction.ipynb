{
 "cells": [
  {
   "cell_type": "markdown",
   "metadata": {},
   "source": [
    "### Introducing Gradient Descent"
   ]
  },
  {
   "cell_type": "markdown",
   "metadata": {},
   "source": [
    "Gradient descent is a first-order iterative optimization algorithm for finding the minimum of a function. To minimize the function, it moves iteratively to the negative of the gradient of the function.\n",
    "\n",
    "In this project we are going to apply logistic regression model and use gradient descent to find the convergence."
   ]
  },
  {
   "cell_type": "markdown",
   "metadata": {},
   "source": [
    "#### Import libraries"
   ]
  },
  {
   "cell_type": "code",
   "execution_count": 1,
   "metadata": {},
   "outputs": [],
   "source": [
    "import pandas as pd\n",
    "import matplotlib.pyplot as plt\n",
    "import math\n",
    "import time\n",
    "import functools\n",
    "import numpy as np\n",
    "from sklearn.metrics import log_loss\n",
    "from sklearn.preprocessing import OneHotEncoder\n",
    "from sklearn.linear_model import LogisticRegression\n",
    "from sklearn.linear_model import LogisticRegressionCV\n",
    "from sklearn.preprocessing import StandardScaler\n",
    "from sklearn.metrics import confusion_matrix\n",
    "%matplotlib inline"
   ]
  },
  {
   "cell_type": "markdown",
   "metadata": {},
   "source": [
    "#### Load all the data into Python"
   ]
  },
  {
   "cell_type": "markdown",
   "metadata": {},
   "source": [
    "The dataset includes two files: household and individual data"
   ]
  },
  {
   "cell_type": "markdown",
   "metadata": {},
   "source": [
    "#### Household data"
   ]
  },
  {
   "cell_type": "code",
   "execution_count": 2,
   "metadata": {},
   "outputs": [],
   "source": [
    "hh_train=pd.read_csv('D:\\Sam\\Data Courses and Practice\\Data Competition\\World Bank\\A_hhold_train.csv')\n",
    "#household training data"
   ]
  },
  {
   "cell_type": "code",
   "execution_count": 3,
   "metadata": {},
   "outputs": [
    {
     "data": {
      "text/html": [
       "<div>\n",
       "<style>\n",
       "    .dataframe thead tr:only-child th {\n",
       "        text-align: right;\n",
       "    }\n",
       "\n",
       "    .dataframe thead th {\n",
       "        text-align: left;\n",
       "    }\n",
       "\n",
       "    .dataframe tbody tr th {\n",
       "        vertical-align: top;\n",
       "    }\n",
       "</style>\n",
       "<table border=\"1\" class=\"dataframe\">\n",
       "  <thead>\n",
       "    <tr style=\"text-align: right;\">\n",
       "      <th></th>\n",
       "      <th>id</th>\n",
       "      <th>wBXbHZmp</th>\n",
       "      <th>SlDKnCuu</th>\n",
       "      <th>KAJOWiiw</th>\n",
       "      <th>DsKacCdL</th>\n",
       "      <th>rtPrBBPl</th>\n",
       "      <th>tMJrvvut</th>\n",
       "      <th>jdetlNNF</th>\n",
       "      <th>maLAYXwi</th>\n",
       "      <th>vwpsXRGk</th>\n",
       "      <th>...</th>\n",
       "      <th>sDGibZrP</th>\n",
       "      <th>CsGvKKBJ</th>\n",
       "      <th>OLpGAaEu</th>\n",
       "      <th>LrDrWRjC</th>\n",
       "      <th>JCDeZBXq</th>\n",
       "      <th>HGPWuGlV</th>\n",
       "      <th>GDUPaBQs</th>\n",
       "      <th>WuwrCsIY</th>\n",
       "      <th>AlDbXTlZ</th>\n",
       "      <th>country</th>\n",
       "    </tr>\n",
       "  </thead>\n",
       "  <tbody>\n",
       "    <tr>\n",
       "      <th>0</th>\n",
       "      <td>46107</td>\n",
       "      <td>JhtDR</td>\n",
       "      <td>GUusz</td>\n",
       "      <td>TuovO</td>\n",
       "      <td>ZYabk</td>\n",
       "      <td>feupP</td>\n",
       "      <td>PHMVg</td>\n",
       "      <td>NDTCU</td>\n",
       "      <td>cLAGr</td>\n",
       "      <td>XAmOF</td>\n",
       "      <td>...</td>\n",
       "      <td>JqHnW</td>\n",
       "      <td>MaXfS</td>\n",
       "      <td>etZsD</td>\n",
       "      <td>idRwx</td>\n",
       "      <td>LPtkN</td>\n",
       "      <td>vkbkA</td>\n",
       "      <td>qQxrL</td>\n",
       "      <td>AITFl</td>\n",
       "      <td>aQeIm</td>\n",
       "      <td>A</td>\n",
       "    </tr>\n",
       "    <tr>\n",
       "      <th>1</th>\n",
       "      <td>82739</td>\n",
       "      <td>JhtDR</td>\n",
       "      <td>GUusz</td>\n",
       "      <td>TuovO</td>\n",
       "      <td>ZYabk</td>\n",
       "      <td>feupP</td>\n",
       "      <td>PHMVg</td>\n",
       "      <td>NDTCU</td>\n",
       "      <td>sehIp</td>\n",
       "      <td>lwCkE</td>\n",
       "      <td>...</td>\n",
       "      <td>JqHnW</td>\n",
       "      <td>MaXfS</td>\n",
       "      <td>HxnJy</td>\n",
       "      <td>idRwx</td>\n",
       "      <td>UyAms</td>\n",
       "      <td>vkbkA</td>\n",
       "      <td>qQxrL</td>\n",
       "      <td>AITFl</td>\n",
       "      <td>cecIq</td>\n",
       "      <td>A</td>\n",
       "    </tr>\n",
       "    <tr>\n",
       "      <th>2</th>\n",
       "      <td>9646</td>\n",
       "      <td>JhtDR</td>\n",
       "      <td>GUusz</td>\n",
       "      <td>BIZns</td>\n",
       "      <td>ZYabk</td>\n",
       "      <td>uxuSS</td>\n",
       "      <td>PHMVg</td>\n",
       "      <td>NDTCU</td>\n",
       "      <td>sehIp</td>\n",
       "      <td>qNABl</td>\n",
       "      <td>...</td>\n",
       "      <td>JqHnW</td>\n",
       "      <td>MaXfS</td>\n",
       "      <td>USRak</td>\n",
       "      <td>idRwx</td>\n",
       "      <td>UyAms</td>\n",
       "      <td>vkbkA</td>\n",
       "      <td>qQxrL</td>\n",
       "      <td>AITFl</td>\n",
       "      <td>cecIq</td>\n",
       "      <td>A</td>\n",
       "    </tr>\n",
       "    <tr>\n",
       "      <th>3</th>\n",
       "      <td>10975</td>\n",
       "      <td>JhtDR</td>\n",
       "      <td>GUusz</td>\n",
       "      <td>TuovO</td>\n",
       "      <td>ZYabk</td>\n",
       "      <td>feupP</td>\n",
       "      <td>PHMVg</td>\n",
       "      <td>NDTCU</td>\n",
       "      <td>sehIp</td>\n",
       "      <td>sPNOc</td>\n",
       "      <td>...</td>\n",
       "      <td>JqHnW</td>\n",
       "      <td>MaXfS</td>\n",
       "      <td>USRak</td>\n",
       "      <td>idRwx</td>\n",
       "      <td>UyAms</td>\n",
       "      <td>vkbkA</td>\n",
       "      <td>qQxrL</td>\n",
       "      <td>AITFl</td>\n",
       "      <td>cecIq</td>\n",
       "      <td>A</td>\n",
       "    </tr>\n",
       "    <tr>\n",
       "      <th>4</th>\n",
       "      <td>16463</td>\n",
       "      <td>JhtDR</td>\n",
       "      <td>alLXR</td>\n",
       "      <td>TuovO</td>\n",
       "      <td>ZYabk</td>\n",
       "      <td>feupP</td>\n",
       "      <td>PHMVg</td>\n",
       "      <td>NDTCU</td>\n",
       "      <td>cLAGr</td>\n",
       "      <td>NdlDR</td>\n",
       "      <td>...</td>\n",
       "      <td>JqHnW</td>\n",
       "      <td>MaXfS</td>\n",
       "      <td>etZsD</td>\n",
       "      <td>idRwx</td>\n",
       "      <td>UyAms</td>\n",
       "      <td>vkbkA</td>\n",
       "      <td>qQxrL</td>\n",
       "      <td>GAZGl</td>\n",
       "      <td>aQeIm</td>\n",
       "      <td>A</td>\n",
       "    </tr>\n",
       "  </tbody>\n",
       "</table>\n",
       "<p>5 rows × 346 columns</p>\n",
       "</div>"
      ],
      "text/plain": [
       "      id wBXbHZmp SlDKnCuu KAJOWiiw DsKacCdL rtPrBBPl tMJrvvut jdetlNNF  \\\n",
       "0  46107    JhtDR    GUusz    TuovO    ZYabk    feupP    PHMVg    NDTCU   \n",
       "1  82739    JhtDR    GUusz    TuovO    ZYabk    feupP    PHMVg    NDTCU   \n",
       "2   9646    JhtDR    GUusz    BIZns    ZYabk    uxuSS    PHMVg    NDTCU   \n",
       "3  10975    JhtDR    GUusz    TuovO    ZYabk    feupP    PHMVg    NDTCU   \n",
       "4  16463    JhtDR    alLXR    TuovO    ZYabk    feupP    PHMVg    NDTCU   \n",
       "\n",
       "  maLAYXwi vwpsXRGk   ...   sDGibZrP CsGvKKBJ OLpGAaEu LrDrWRjC JCDeZBXq  \\\n",
       "0    cLAGr    XAmOF   ...      JqHnW    MaXfS    etZsD    idRwx    LPtkN   \n",
       "1    sehIp    lwCkE   ...      JqHnW    MaXfS    HxnJy    idRwx    UyAms   \n",
       "2    sehIp    qNABl   ...      JqHnW    MaXfS    USRak    idRwx    UyAms   \n",
       "3    sehIp    sPNOc   ...      JqHnW    MaXfS    USRak    idRwx    UyAms   \n",
       "4    cLAGr    NdlDR   ...      JqHnW    MaXfS    etZsD    idRwx    UyAms   \n",
       "\n",
       "  HGPWuGlV GDUPaBQs WuwrCsIY AlDbXTlZ country  \n",
       "0    vkbkA    qQxrL    AITFl    aQeIm       A  \n",
       "1    vkbkA    qQxrL    AITFl    cecIq       A  \n",
       "2    vkbkA    qQxrL    AITFl    cecIq       A  \n",
       "3    vkbkA    qQxrL    AITFl    cecIq       A  \n",
       "4    vkbkA    qQxrL    GAZGl    aQeIm       A  \n",
       "\n",
       "[5 rows x 346 columns]"
      ]
     },
     "execution_count": 3,
     "metadata": {},
     "output_type": "execute_result"
    }
   ],
   "source": [
    "hh_train.head()"
   ]
  },
  {
   "cell_type": "markdown",
   "metadata": {},
   "source": [
    "Column 'id' represents different families. As for features, each column in the dataset corresponds with a survey question. Each question is either multiple choice, in which case each choice has been encoded as random string, or it is a numeric value. Most of the questions are about consumable goods"
   ]
  },
  {
   "cell_type": "code",
   "execution_count": 4,
   "metadata": {},
   "outputs": [
    {
     "data": {
      "text/plain": [
       "(8203, 346)"
      ]
     },
     "execution_count": 4,
     "metadata": {},
     "output_type": "execute_result"
    }
   ],
   "source": [
    "hh_train.shape"
   ]
  },
  {
   "cell_type": "markdown",
   "metadata": {},
   "source": [
    "Household data contains 8203 observations and 346 features"
   ]
  },
  {
   "cell_type": "markdown",
   "metadata": {},
   "source": [
    "#### Individual dataset"
   ]
  },
  {
   "cell_type": "code",
   "execution_count": 5,
   "metadata": {},
   "outputs": [],
   "source": [
    "ind_train=pd.read_csv('D:\\Sam\\Data Courses and Practice\\Data Competition\\World Bank\\A_indiv_train.csv')\n",
    "#individual training data "
   ]
  },
  {
   "cell_type": "code",
   "execution_count": 6,
   "metadata": {},
   "outputs": [
    {
     "data": {
      "text/html": [
       "<div>\n",
       "<style>\n",
       "    .dataframe thead tr:only-child th {\n",
       "        text-align: right;\n",
       "    }\n",
       "\n",
       "    .dataframe thead th {\n",
       "        text-align: left;\n",
       "    }\n",
       "\n",
       "    .dataframe tbody tr th {\n",
       "        vertical-align: top;\n",
       "    }\n",
       "</style>\n",
       "<table border=\"1\" class=\"dataframe\">\n",
       "  <thead>\n",
       "    <tr style=\"text-align: right;\">\n",
       "      <th></th>\n",
       "      <th>id</th>\n",
       "      <th>iid</th>\n",
       "      <th>HeUgMnzF</th>\n",
       "      <th>CaukPfUC</th>\n",
       "      <th>MzEtIdUF</th>\n",
       "      <th>gtnNTNam</th>\n",
       "      <th>SWoXNmPc</th>\n",
       "      <th>eXbOkwhI</th>\n",
       "      <th>OdXpbPGJ</th>\n",
       "      <th>XONDGWjH</th>\n",
       "      <th>...</th>\n",
       "      <th>ukWqmeSS</th>\n",
       "      <th>qqVibbSA</th>\n",
       "      <th>MgCoFhXK</th>\n",
       "      <th>rFpoTXAq</th>\n",
       "      <th>RXcLsVAQ</th>\n",
       "      <th>rQWIpTiG</th>\n",
       "      <th>XizJGmbu</th>\n",
       "      <th>xqUooaNJ</th>\n",
       "      <th>poor</th>\n",
       "      <th>country</th>\n",
       "    </tr>\n",
       "  </thead>\n",
       "  <tbody>\n",
       "    <tr>\n",
       "      <th>0</th>\n",
       "      <td>80389</td>\n",
       "      <td>1</td>\n",
       "      <td>XJsPz</td>\n",
       "      <td>mOlYV</td>\n",
       "      <td>UFoKR</td>\n",
       "      <td>SSvEP</td>\n",
       "      <td>onRNG</td>\n",
       "      <td>YXCNt</td>\n",
       "      <td>4.0</td>\n",
       "      <td>oArAw</td>\n",
       "      <td>...</td>\n",
       "      <td>181</td>\n",
       "      <td>QQdHS</td>\n",
       "      <td>uEstx</td>\n",
       "      <td>Hikoa</td>\n",
       "      <td>zQvdC</td>\n",
       "      <td>xUYIC</td>\n",
       "      <td>juMSt</td>\n",
       "      <td>dSJoN</td>\n",
       "      <td>True</td>\n",
       "      <td>A</td>\n",
       "    </tr>\n",
       "    <tr>\n",
       "      <th>1</th>\n",
       "      <td>80389</td>\n",
       "      <td>2</td>\n",
       "      <td>XJsPz</td>\n",
       "      <td>mOlYV</td>\n",
       "      <td>axSTs</td>\n",
       "      <td>CXizI</td>\n",
       "      <td>onRNG</td>\n",
       "      <td>YXCNt</td>\n",
       "      <td>4.0</td>\n",
       "      <td>ccbZA</td>\n",
       "      <td>...</td>\n",
       "      <td>141</td>\n",
       "      <td>QQdHS</td>\n",
       "      <td>uEstx</td>\n",
       "      <td>Hikoa</td>\n",
       "      <td>zQvdC</td>\n",
       "      <td>xUYIC</td>\n",
       "      <td>juMSt</td>\n",
       "      <td>JTCKs</td>\n",
       "      <td>True</td>\n",
       "      <td>A</td>\n",
       "    </tr>\n",
       "    <tr>\n",
       "      <th>2</th>\n",
       "      <td>80389</td>\n",
       "      <td>3</td>\n",
       "      <td>TRFeI</td>\n",
       "      <td>mOlYV</td>\n",
       "      <td>axSTs</td>\n",
       "      <td>CXizI</td>\n",
       "      <td>NDnCs</td>\n",
       "      <td>YXCNt</td>\n",
       "      <td>4.0</td>\n",
       "      <td>fOUHD</td>\n",
       "      <td>...</td>\n",
       "      <td>41</td>\n",
       "      <td>QQdHS</td>\n",
       "      <td>gCSRj</td>\n",
       "      <td>Hikoa</td>\n",
       "      <td>zQvdC</td>\n",
       "      <td>rkLqZ</td>\n",
       "      <td>juMSt</td>\n",
       "      <td>JTCKs</td>\n",
       "      <td>True</td>\n",
       "      <td>A</td>\n",
       "    </tr>\n",
       "    <tr>\n",
       "      <th>3</th>\n",
       "      <td>80389</td>\n",
       "      <td>4</td>\n",
       "      <td>XJsPz</td>\n",
       "      <td>yAyAe</td>\n",
       "      <td>FRcdT</td>\n",
       "      <td>CXizI</td>\n",
       "      <td>onRNG</td>\n",
       "      <td>YXCNt</td>\n",
       "      <td>NaN</td>\n",
       "      <td>fOUHD</td>\n",
       "      <td>...</td>\n",
       "      <td>16</td>\n",
       "      <td>QQdHS</td>\n",
       "      <td>uEstx</td>\n",
       "      <td>Hikoa</td>\n",
       "      <td>zQvdC</td>\n",
       "      <td>jVHyH</td>\n",
       "      <td>GtHel</td>\n",
       "      <td>JTCKs</td>\n",
       "      <td>True</td>\n",
       "      <td>A</td>\n",
       "    </tr>\n",
       "    <tr>\n",
       "      <th>4</th>\n",
       "      <td>39883</td>\n",
       "      <td>1</td>\n",
       "      <td>XJsPz</td>\n",
       "      <td>mOlYV</td>\n",
       "      <td>UFoKR</td>\n",
       "      <td>HIvIU</td>\n",
       "      <td>onRNG</td>\n",
       "      <td>YXCNt</td>\n",
       "      <td>4.0</td>\n",
       "      <td>oArAw</td>\n",
       "      <td>...</td>\n",
       "      <td>381</td>\n",
       "      <td>QQdHS</td>\n",
       "      <td>uEstx</td>\n",
       "      <td>Hikoa</td>\n",
       "      <td>zQvdC</td>\n",
       "      <td>xUYIC</td>\n",
       "      <td>juMSt</td>\n",
       "      <td>UaIsy</td>\n",
       "      <td>False</td>\n",
       "      <td>A</td>\n",
       "    </tr>\n",
       "  </tbody>\n",
       "</table>\n",
       "<p>5 rows × 44 columns</p>\n",
       "</div>"
      ],
      "text/plain": [
       "      id  iid HeUgMnzF CaukPfUC MzEtIdUF gtnNTNam SWoXNmPc eXbOkwhI  OdXpbPGJ  \\\n",
       "0  80389    1    XJsPz    mOlYV    UFoKR    SSvEP    onRNG    YXCNt       4.0   \n",
       "1  80389    2    XJsPz    mOlYV    axSTs    CXizI    onRNG    YXCNt       4.0   \n",
       "2  80389    3    TRFeI    mOlYV    axSTs    CXizI    NDnCs    YXCNt       4.0   \n",
       "3  80389    4    XJsPz    yAyAe    FRcdT    CXizI    onRNG    YXCNt       NaN   \n",
       "4  39883    1    XJsPz    mOlYV    UFoKR    HIvIU    onRNG    YXCNt       4.0   \n",
       "\n",
       "  XONDGWjH   ...   ukWqmeSS qqVibbSA MgCoFhXK rFpoTXAq RXcLsVAQ rQWIpTiG  \\\n",
       "0    oArAw   ...        181    QQdHS    uEstx    Hikoa    zQvdC    xUYIC   \n",
       "1    ccbZA   ...        141    QQdHS    uEstx    Hikoa    zQvdC    xUYIC   \n",
       "2    fOUHD   ...         41    QQdHS    gCSRj    Hikoa    zQvdC    rkLqZ   \n",
       "3    fOUHD   ...         16    QQdHS    uEstx    Hikoa    zQvdC    jVHyH   \n",
       "4    oArAw   ...        381    QQdHS    uEstx    Hikoa    zQvdC    xUYIC   \n",
       "\n",
       "  XizJGmbu xqUooaNJ   poor country  \n",
       "0    juMSt    dSJoN   True       A  \n",
       "1    juMSt    JTCKs   True       A  \n",
       "2    juMSt    JTCKs   True       A  \n",
       "3    GtHel    JTCKs   True       A  \n",
       "4    juMSt    UaIsy  False       A  \n",
       "\n",
       "[5 rows x 44 columns]"
      ]
     },
     "execution_count": 6,
     "metadata": {},
     "output_type": "execute_result"
    }
   ],
   "source": [
    "ind_train.head()"
   ]
  },
  {
   "cell_type": "code",
   "execution_count": 7,
   "metadata": {},
   "outputs": [
    {
     "data": {
      "text/plain": [
       "(37560, 44)"
      ]
     },
     "execution_count": 7,
     "metadata": {},
     "output_type": "execute_result"
    }
   ],
   "source": [
    "ind_train.shape"
   ]
  },
  {
   "cell_type": "markdown",
   "metadata": {},
   "source": [
    "Individual data contains 37560 observations and 44 features"
   ]
  },
  {
   "cell_type": "markdown",
   "metadata": {},
   "source": [
    "#### For both datasets, an assessment of whether or not the household is above or below the poverty line is in the poor column. This binary variable is the target variable for this dataset. Our prediction will be made at the household level."
   ]
  },
  {
   "cell_type": "code",
   "execution_count": 9,
   "metadata": {},
   "outputs": [],
   "source": [
    "target=hh_train.poor"
   ]
  },
  {
   "cell_type": "code",
   "execution_count": 10,
   "metadata": {},
   "outputs": [],
   "source": [
    "hh=hh_train\n",
    "hh=hh.drop(['country','poor'],axis=1)"
   ]
  },
  {
   "cell_type": "code",
   "execution_count": 11,
   "metadata": {},
   "outputs": [],
   "source": [
    "ind=ind_train\n",
    "ind=ind.drop(['iid','country','poor'],axis=1)"
   ]
  },
  {
   "cell_type": "markdown",
   "metadata": {},
   "source": [
    "### Data Preprocessing"
   ]
  },
  {
   "cell_type": "markdown",
   "metadata": {},
   "source": [
    "#### Dealing with missing value"
   ]
  },
  {
   "cell_type": "code",
   "execution_count": 12,
   "metadata": {},
   "outputs": [],
   "source": [
    "def check_missing(df):\n",
    "    missing_count=pd.DataFrame(df.isnull().sum())\n",
    "    missing_count=missing_count.rename(columns={0:'missing'})\n",
    "    missing_count=missing_count.sort_values(by='missing',ascending=False)\n",
    "    missing_percentage=missing_count.copy()\n",
    "    missing_percentage['missing']=missing_percentage['missing']/len(df)\n",
    "    return missing_percentage"
   ]
  },
  {
   "cell_type": "code",
   "execution_count": 13,
   "metadata": {},
   "outputs": [
    {
     "data": {
      "text/html": [
       "<div>\n",
       "<style>\n",
       "    .dataframe thead tr:only-child th {\n",
       "        text-align: right;\n",
       "    }\n",
       "\n",
       "    .dataframe thead th {\n",
       "        text-align: left;\n",
       "    }\n",
       "\n",
       "    .dataframe tbody tr th {\n",
       "        vertical-align: top;\n",
       "    }\n",
       "</style>\n",
       "<table border=\"1\" class=\"dataframe\">\n",
       "  <thead>\n",
       "    <tr style=\"text-align: right;\">\n",
       "      <th></th>\n",
       "      <th>missing</th>\n",
       "    </tr>\n",
       "  </thead>\n",
       "  <tbody>\n",
       "    <tr>\n",
       "      <th>OdXpbPGJ</th>\n",
       "      <td>0.16688</td>\n",
       "    </tr>\n",
       "    <tr>\n",
       "      <th>id</th>\n",
       "      <td>0.00000</td>\n",
       "    </tr>\n",
       "    <tr>\n",
       "      <th>XBldkztv</th>\n",
       "      <td>0.00000</td>\n",
       "    </tr>\n",
       "    <tr>\n",
       "      <th>QvgxCmCV</th>\n",
       "      <td>0.00000</td>\n",
       "    </tr>\n",
       "    <tr>\n",
       "      <th>kvMGuSDN</th>\n",
       "      <td>0.00000</td>\n",
       "    </tr>\n",
       "  </tbody>\n",
       "</table>\n",
       "</div>"
      ],
      "text/plain": [
       "          missing\n",
       "OdXpbPGJ  0.16688\n",
       "id        0.00000\n",
       "XBldkztv  0.00000\n",
       "QvgxCmCV  0.00000\n",
       "kvMGuSDN  0.00000"
      ]
     },
     "execution_count": 13,
     "metadata": {},
     "output_type": "execute_result"
    }
   ],
   "source": [
    "check_missing(ind).head()"
   ]
  },
  {
   "cell_type": "code",
   "execution_count": 14,
   "metadata": {},
   "outputs": [
    {
     "data": {
      "text/html": [
       "<div>\n",
       "<style>\n",
       "    .dataframe thead tr:only-child th {\n",
       "        text-align: right;\n",
       "    }\n",
       "\n",
       "    .dataframe thead th {\n",
       "        text-align: left;\n",
       "    }\n",
       "\n",
       "    .dataframe tbody tr th {\n",
       "        vertical-align: top;\n",
       "    }\n",
       "</style>\n",
       "<table border=\"1\" class=\"dataframe\">\n",
       "  <thead>\n",
       "    <tr style=\"text-align: right;\">\n",
       "      <th></th>\n",
       "      <th>missing</th>\n",
       "    </tr>\n",
       "  </thead>\n",
       "  <tbody>\n",
       "    <tr>\n",
       "      <th>id</th>\n",
       "      <td>0.0</td>\n",
       "    </tr>\n",
       "    <tr>\n",
       "      <th>szowPwNq</th>\n",
       "      <td>0.0</td>\n",
       "    </tr>\n",
       "    <tr>\n",
       "      <th>uZGqTQUP</th>\n",
       "      <td>0.0</td>\n",
       "    </tr>\n",
       "    <tr>\n",
       "      <th>nqndbwXP</th>\n",
       "      <td>0.0</td>\n",
       "    </tr>\n",
       "    <tr>\n",
       "      <th>CHAQHqqr</th>\n",
       "      <td>0.0</td>\n",
       "    </tr>\n",
       "  </tbody>\n",
       "</table>\n",
       "</div>"
      ],
      "text/plain": [
       "          missing\n",
       "id            0.0\n",
       "szowPwNq      0.0\n",
       "uZGqTQUP      0.0\n",
       "nqndbwXP      0.0\n",
       "CHAQHqqr      0.0"
      ]
     },
     "execution_count": 14,
     "metadata": {},
     "output_type": "execute_result"
    }
   ],
   "source": [
    "check_missing(hh).head()"
   ]
  },
  {
   "cell_type": "markdown",
   "metadata": {},
   "source": [
    "Since there is only one feature in household data has missing value and the missing percentage is only 16.7%, we decided to impute the mode value."
   ]
  },
  {
   "cell_type": "markdown",
   "metadata": {},
   "source": [
    "No missing values in the individual dataset."
   ]
  },
  {
   "cell_type": "code",
   "execution_count": 15,
   "metadata": {},
   "outputs": [],
   "source": [
    "ind['OdXpbPGJ']=ind['OdXpbPGJ'].fillna(ind.OdXpbPGJ.mode()[0])\n",
    "#replace missing values with the most common value in 'OdXpbPGJ'"
   ]
  },
  {
   "cell_type": "code",
   "execution_count": 16,
   "metadata": {},
   "outputs": [
    {
     "data": {
      "text/html": [
       "<div>\n",
       "<style>\n",
       "    .dataframe thead tr:only-child th {\n",
       "        text-align: right;\n",
       "    }\n",
       "\n",
       "    .dataframe thead th {\n",
       "        text-align: left;\n",
       "    }\n",
       "\n",
       "    .dataframe tbody tr th {\n",
       "        vertical-align: top;\n",
       "    }\n",
       "</style>\n",
       "<table border=\"1\" class=\"dataframe\">\n",
       "  <thead>\n",
       "    <tr style=\"text-align: right;\">\n",
       "      <th></th>\n",
       "      <th>missing</th>\n",
       "    </tr>\n",
       "  </thead>\n",
       "  <tbody>\n",
       "    <tr>\n",
       "      <th>id</th>\n",
       "      <td>0.0</td>\n",
       "    </tr>\n",
       "    <tr>\n",
       "      <th>jYpOAjPW</th>\n",
       "      <td>0.0</td>\n",
       "    </tr>\n",
       "    <tr>\n",
       "      <th>QvgxCmCV</th>\n",
       "      <td>0.0</td>\n",
       "    </tr>\n",
       "    <tr>\n",
       "      <th>kvMGuSDN</th>\n",
       "      <td>0.0</td>\n",
       "    </tr>\n",
       "    <tr>\n",
       "      <th>AjYsrafY</th>\n",
       "      <td>0.0</td>\n",
       "    </tr>\n",
       "  </tbody>\n",
       "</table>\n",
       "</div>"
      ],
      "text/plain": [
       "          missing\n",
       "id            0.0\n",
       "jYpOAjPW      0.0\n",
       "QvgxCmCV      0.0\n",
       "kvMGuSDN      0.0\n",
       "AjYsrafY      0.0"
      ]
     },
     "execution_count": 16,
     "metadata": {},
     "output_type": "execute_result"
    }
   ],
   "source": [
    "check_missing(ind).head()"
   ]
  },
  {
   "cell_type": "markdown",
   "metadata": {},
   "source": [
    "Check again, there are no missing values any more."
   ]
  },
  {
   "cell_type": "markdown",
   "metadata": {},
   "source": [
    "#### One-hot encoding on categorical features"
   ]
  },
  {
   "cell_type": "code",
   "execution_count": 17,
   "metadata": {},
   "outputs": [],
   "source": [
    "#seperare numerical features and categorical features in individual data\n",
    "ind_num_col=ind.columns[ind.dtypes!=object].values\n",
    "ind_cate_col=ind.columns[ind.dtypes==object].values\n",
    "#seperare numerical features and categorical features in household data\n",
    "hh_num_col=hh.columns[hh.dtypes!=object].values\n",
    "hh_cate_col=hh.columns[hh.dtypes==object].values"
   ]
  },
  {
   "cell_type": "code",
   "execution_count": 18,
   "metadata": {},
   "outputs": [],
   "source": [
    "hh_dummy=pd.get_dummies(hh[hh_cate_col])\n",
    "\n",
    "hh=pd.concat([hh_dummy,hh[hh_num_col]],axis=1)\n",
    "#one hot encoding on household data"
   ]
  },
  {
   "cell_type": "code",
   "execution_count": 19,
   "metadata": {},
   "outputs": [],
   "source": [
    "ind_dummy=pd.get_dummies(ind[ind_cate_col])\n",
    "\n",
    "ind=pd.concat([ind_dummy,ind[ind_num_col]],axis=1)\n",
    "#one hot encoding on individual data\n",
    "ind=ind.groupby('id').mean()\n",
    "#ready for data merge"
   ]
  },
  {
   "cell_type": "markdown",
   "metadata": {},
   "source": [
    "#### Merge household data with indevidual data"
   ]
  },
  {
   "cell_type": "markdown",
   "metadata": {},
   "source": [
    "#### Questions across the two survey levels are different, so it may be the case that generating new household level features by aggregating the individual features that will create better predictors."
   ]
  },
  {
   "cell_type": "code",
   "execution_count": 20,
   "metadata": {},
   "outputs": [],
   "source": [
    "data=hh.merge(ind,left_on='id',right_index=True)\n",
    "\n",
    "data=data.drop('id',axis=1)\n",
    "\n",
    "data=data.applymap(lambda x:float(x))\n",
    "\n",
    "#Finally, merge predictors with response\n",
    "model_data=pd.concat([data,target*1],axis=1)\n",
    "\n",
    "#model_data,prediction_data=all_data.iloc[:6000,:],all_data.iloc[6000:,:]"
   ]
  },
  {
   "cell_type": "code",
   "execution_count": 21,
   "metadata": {},
   "outputs": [
    {
     "data": {
      "text/plain": [
       "(8203, 1132)"
      ]
     },
     "execution_count": 21,
     "metadata": {},
     "output_type": "execute_result"
    }
   ],
   "source": [
    "model_data.shape"
   ]
  },
  {
   "cell_type": "markdown",
   "metadata": {},
   "source": [
    "After merging two file, we got a dataset with 8203 observations and 1132 features"
   ]
  },
  {
   "cell_type": "markdown",
   "metadata": {},
   "source": [
    "### User defined function"
   ]
  },
  {
   "cell_type": "markdown",
   "metadata": {},
   "source": [
    "#### Define a function to randomly sample training data and test data out of original data"
   ]
  },
  {
   "cell_type": "code",
   "execution_count": 27,
   "metadata": {
    "collapsed": true
   },
   "outputs": [],
   "source": [
    "def resample(model_data,size=0.5):\n",
    "    sample_train=model_data.sample(frac=size)\n",
    "#    sample_train=sample_train.reset_index()\n",
    "\n",
    "    test_index=[i for i in model_data.index if i not in sample_train.index]\n",
    "\n",
    "    sample_test=model_data.iloc[test_index,:]\n",
    "    \n",
    "    sample_test=sample_test.reset_index()\n",
    "    sample_train=sample_train.reset_index()\n",
    "    \n",
    "    return sample_train,sample_test\n",
    "#define a function to randomly sample training data and test data out of original data"
   ]
  },
  {
   "cell_type": "markdown",
   "metadata": {},
   "source": [
    "#### Define a sigmiod function"
   ]
  },
  {
   "cell_type": "code",
   "execution_count": 28,
   "metadata": {
    "collapsed": true
   },
   "outputs": [],
   "source": [
    "def sigmoid(z):\n",
    "    return 1/(1 + np.exp(-z))"
   ]
  },
  {
   "cell_type": "markdown",
   "metadata": {},
   "source": [
    "#### Define a function to transform data into matrix form to implement vectorization for later caculation"
   ]
  },
  {
   "cell_type": "code",
   "execution_count": 29,
   "metadata": {
    "collapsed": true
   },
   "outputs": [],
   "source": [
    "def trans_data(data):\n",
    "    new_data=data.values\n",
    "    features=new_data[:,0:-1]\n",
    "    response=new_data[:,-1]\n",
    "    features=np.insert(features,0,1,axis=1)\n",
    "    return features,response\n",
    "#transform data into matrix form to implement vectorization later"
   ]
  },
  {
   "cell_type": "markdown",
   "metadata": {},
   "source": [
    "#### Define a function to calculate gradient descent"
   ]
  },
  {
   "cell_type": "code",
   "execution_count": 30,
   "metadata": {
    "collapsed": true
   },
   "outputs": [],
   "source": [
    "def gradient_descent(features,response,a,t):\n",
    "    response = response.reshape(len(response),1)\n",
    "    n=np.shape(features)[-1]\n",
    "#initialize weights\n",
    "    weights = np.zeros((n, 1))\n",
    "#iteration times\n",
    "    iterations = t\n",
    "    acc=[]\n",
    "    ll=[]\n",
    "    for i in range(iterations):\n",
    "#define learning rate\n",
    "        alpha=a\n",
    "#alpha=a/(1+i)+0.01---changing stepsize\n",
    "        y = sigmoid(features.dot(weights))  \n",
    "        weights = weights + alpha * (features.transpose().dot((response - y)))        \n",
    "        y_pred_prob=sigmoid(features.dot(weights))\n",
    "        ll.append(log_loss(response,y_pred_prob))\n",
    "        y_pred=(y_pred_prob>0.5)*1\n",
    "#threshold here is 0.5 which could be changed later \n",
    "        acc.append(np.mean(y_pred==response))\n",
    "#acc.append(np.mean(y_pred==response))\n",
    "    return weights,ll,acc"
   ]
  },
  {
   "cell_type": "markdown",
   "metadata": {},
   "source": [
    "#### Define a function to do feature scaling"
   ]
  },
  {
   "cell_type": "code",
   "execution_count": 31,
   "metadata": {
    "collapsed": true
   },
   "outputs": [],
   "source": [
    "def standardize(data):\n",
    "    scaler=StandardScaler()\n",
    "    scaler.fit(data)\n",
    "    norm_data=scaler.transform(data)\n",
    "    return norm_data\n",
    "#feature scaling function"
   ]
  },
  {
   "cell_type": "markdown",
   "metadata": {},
   "source": [
    "Now we have all the components to build Logistic Regression model."
   ]
  },
  {
   "cell_type": "markdown",
   "metadata": {},
   "source": [
    "### Build a logistic regression model with gradient descent"
   ]
  },
  {
   "cell_type": "markdown",
   "metadata": {},
   "source": [
    "#### Define a logistic regression function and return coefficients, log loss and accuracy"
   ]
  },
  {
   "cell_type": "code",
   "execution_count": 529,
   "metadata": {
    "collapsed": true
   },
   "outputs": [],
   "source": [
    "def LR_GD(data,a,t):\n",
    "#a is the stepsize, namely learning rate\n",
    "#t is the iteration times\n",
    "    data_target=data.poor\n",
    "    data_predictors=data.drop('poor',axis=1)\n",
    "#seperate response and predictors\n",
    "    scaled=standardize(data_predictors)\n",
    "#perform feature scaling\n",
    "    new_data=pd.concat([pd.DataFrame(scaled),data_target],axis=1)\n",
    "#transform the data into matrix \n",
    "    features,response=trans_data(new_data)\n",
    "#ready to input data in LR model\n",
    "    weights,ll,acc=gradient_descent(features,response,a,t)    \n",
    "    return weights,ll,acc"
   ]
  },
  {
   "cell_type": "markdown",
   "metadata": {},
   "source": [
    "Now, we are going to do experiments with different stepsize and interations. We use 70% data as training set"
   ]
  },
  {
   "cell_type": "code",
   "execution_count": 530,
   "metadata": {
    "collapsed": true
   },
   "outputs": [],
   "source": [
    "#get training data and test data\n",
    "sample_train,sample_test=resample(model_data,0.7)\n",
    "#sample_train,sample_test=model_data.iloc[:6000,:],model_data.iloc[6000:,:]"
   ]
  },
  {
   "cell_type": "markdown",
   "metadata": {},
   "source": [
    "### Experiment 1: 200 iterations and stepsize 0.001"
   ]
  },
  {
   "cell_type": "code",
   "execution_count": 531,
   "metadata": {},
   "outputs": [
    {
     "name": "stdout",
     "output_type": "stream",
     "text": [
      "Running Time is 3.6536600000001727s\n"
     ]
    }
   ],
   "source": [
    "n=200\n",
    "#we run 200 iterations\n",
    "t=0.001\n",
    "#the stepsize is 0.0005 in this experiment\n",
    "start=time.clock()\n",
    "w,ll,acc=LR_GD(sample_train,t,n)\n",
    "#w is the weight vector\n",
    "#ll is log loss error vector on the test data (get one from each of the 200 iterations)\n",
    "#acc is the accuracy vector on the training data (get one from each of the 200 iterations)\n",
    "end=time.clock()\n",
    "print('Running Time is {}s'.format(end-start))"
   ]
  },
  {
   "cell_type": "code",
   "execution_count": 532,
   "metadata": {},
   "outputs": [
    {
     "data": {
      "text/plain": [
       "Text(0.5,1,'Convergence')"
      ]
     },
     "execution_count": 532,
     "metadata": {},
     "output_type": "execute_result"
    },
    {
     "data": {
      "image/png": "[encoded data removed]",
      "text/plain": [
       "<matplotlib.figure.Figure at 0x115c808d0>"
      ]
     },
     "metadata": {},
     "output_type": "display_data"
    }
   ],
   "source": [
    "plt.figure(figsize=(12,8))\n",
    "plt.plot(range(n),ll)\n",
    "plt.xlabel('Iterations')\n",
    "plt.ylabel('Log loss')\n",
    "plt.title('Convergence')"
   ]
  },
  {
   "cell_type": "markdown",
   "metadata": {},
   "source": [
    "### Experiment 2: 200 iterations and stepsize 0.0005"
   ]
  },
  {
   "cell_type": "code",
   "execution_count": 533,
   "metadata": {},
   "outputs": [
    {
     "name": "stdout",
     "output_type": "stream",
     "text": [
      "Running Time is 3.244472999999971s\n"
     ]
    }
   ],
   "source": [
    "n=200\n",
    "t=0.0005\n",
    "start=time.clock()\n",
    "w,ll,acc=LR_GD(sample_train,t,n)\n",
    "end=time.clock()\n",
    "print('Running Time is {}s'.format(end-start))"
   ]
  },
  {
   "cell_type": "code",
   "execution_count": 534,
   "metadata": {},
   "outputs": [
    {
     "data": {
      "text/plain": [
       "Text(0.5,1,'Convergence')"
      ]
     },
     "execution_count": 534,
     "metadata": {},
     "output_type": "execute_result"
    },
    {
     "data": {
      "image/png": "[encoded data removed]",
      "text/plain": [
       "<matplotlib.figure.Figure at 0x115c80518>"
      ]
     },
     "metadata": {},
     "output_type": "display_data"
    }
   ],
   "source": [
    "plt.figure(figsize=(12,8))\n",
    "plt.plot(range(n),ll)\n",
    "plt.xlabel('Iterations')\n",
    "plt.ylabel('Log loss')\n",
    "plt.title('Convergence')"
   ]
  },
  {
   "cell_type": "markdown",
   "metadata": {},
   "source": [
    "### Experiment 3: 200 iterations and stepsize 0.0001"
   ]
  },
  {
   "cell_type": "code",
   "execution_count": 535,
   "metadata": {},
   "outputs": [
    {
     "name": "stdout",
     "output_type": "stream",
     "text": [
      "Running Time is 3.7503639999999905s\n"
     ]
    }
   ],
   "source": [
    "n=200\n",
    "t=0.0001\n",
    "start=time.clock()\n",
    "w,ll,acc=LR_GD(sample_train,t,n)\n",
    "end=time.clock()\n",
    "print('Running Time is {}s'.format(end-start))"
   ]
  },
  {
   "cell_type": "code",
   "execution_count": 536,
   "metadata": {},
   "outputs": [
    {
     "data": {
      "text/plain": [
       "Text(0.5,1,'Convergence')"
      ]
     },
     "execution_count": 536,
     "metadata": {},
     "output_type": "execute_result"
    },
    {
     "data": {
      "image/png": "[encoded data removed]",
      "text/plain": [
       "<matplotlib.figure.Figure at 0x115e06940>"
      ]
     },
     "metadata": {},
     "output_type": "display_data"
    }
   ],
   "source": [
    "plt.figure(figsize=(12,8))\n",
    "plt.plot(range(n),ll)\n",
    "plt.xlabel('Iterations')\n",
    "plt.ylabel('Log loss')\n",
    "plt.title('Convergence')"
   ]
  },
  {
   "cell_type": "markdown",
   "metadata": {},
   "source": [
    "## Experiment 4: 500 iterations and stepsize 0.0001"
   ]
  },
  {
   "cell_type": "code",
   "execution_count": 537,
   "metadata": {},
   "outputs": [
    {
     "name": "stdout",
     "output_type": "stream",
     "text": [
      "Running Time is 9.14943900000003s\n"
     ]
    }
   ],
   "source": [
    "n=500\n",
    "t=0.0001\n",
    "start=time.clock()\n",
    "w,ll,acc=LR_GD(sample_train,t,n)\n",
    "end=time.clock()\n",
    "print('Running Time is {}s'.format(end-start))"
   ]
  },
  {
   "cell_type": "code",
   "execution_count": 538,
   "metadata": {
    "scrolled": false
   },
   "outputs": [
    {
     "data": {
      "text/plain": [
       "Text(0.5,1,'Convergence')"
      ]
     },
     "execution_count": 538,
     "metadata": {},
     "output_type": "execute_result"
    },
    {
     "data": {
      "image/png": "[encoded data removed]",
      "text/plain": [
       "<matplotlib.figure.Figure at 0x1a1d11a4e0>"
      ]
     },
     "metadata": {},
     "output_type": "display_data"
    }
   ],
   "source": [
    "plt.figure(figsize=(12,8))\n",
    "plt.plot(range(n),ll)\n",
    "plt.xlabel('Iterations')\n",
    "plt.ylabel('Log loss')\n",
    "plt.title('Convergence')"
   ]
  },
  {
   "cell_type": "markdown",
   "metadata": {},
   "source": [
    "#### Experiment result: with 500 iterations and 0.0001 stepsize, we can get a smoother plot."
   ]
  },
  {
   "cell_type": "markdown",
   "metadata": {},
   "source": [
    "### Now we are going to compare our model with the logistic regression model in sikit-learn"
   ]
  },
  {
   "cell_type": "markdown",
   "metadata": {},
   "source": [
    "#### Our model (logistic regression with gradient descent)"
   ]
  },
  {
   "cell_type": "code",
   "execution_count": 562,
   "metadata": {},
   "outputs": [
    {
     "name": "stdout",
     "output_type": "stream",
     "text": [
      "Running Time is 5.973457999999937s\n"
     ]
    }
   ],
   "source": [
    "sample_train,sample_test=resample(model_data,0.7)\n",
    "n=300\n",
    "t=0.00005\n",
    "start=time.clock()\n",
    "w,ll,acc=LR_GD(sample_train,t,n)\n",
    "end=time.clock()\n",
    "print('Running Time is {}s'.format(end-start))"
   ]
  },
  {
   "cell_type": "code",
   "execution_count": 563,
   "metadata": {},
   "outputs": [
    {
     "name": "stdout",
     "output_type": "stream",
     "text": [
      "The log loss error on the training data is: 0.20421557118589864\n",
      "The accuracy on the training data is: 0.9122218835720817\n",
      "\n",
      "The log loss error on the test data is: 0.3056689311869688\n",
      "The accuracy on the test data is: 0.8726386349786716\n"
     ]
    }
   ],
   "source": [
    "#check the result\n",
    "test_target=sample_test.poor\n",
    "test_predictors=sample_test.drop('poor',axis=1)\n",
    "scaled=standardize(test_predictors)\n",
    "scaled=np.insert(scaled,0,1,axis=1)\n",
    "#insert intercept term\n",
    "prob=sigmoid(scaled.dot(w))\n",
    "#calculate the classification probability\n",
    "logloss=log_loss(test_target,prob)\n",
    "accuracy=np.mean(((prob.reshape((1,len(prob)))[0]>0.5)*1)==test_target.values)\n",
    "print('The log loss error on the training data is:',ll[-1])\n",
    "print('The accuracy on the training data is:',acc[-1])\n",
    "print('')\n",
    "print('The log loss error on the test data is:',logloss)\n",
    "print('The accuracy on the test data is:',accuracy)"
   ]
  },
  {
   "cell_type": "markdown",
   "metadata": {},
   "source": [
    "#### Logistic Regression model using scikit-learning."
   ]
  },
  {
   "cell_type": "code",
   "execution_count": 67,
   "metadata": {
    "collapsed": true
   },
   "outputs": [],
   "source": [
    "def LR_sklearn(sample_train,sample_test):\n",
    "    X_train=sample_train.iloc[:,:-1]\n",
    "    y_train=sample_train.iloc[:,-1]\n",
    "    lr=LogisticRegression()\n",
    "    lr.fit(X_train,y_train)\n",
    "    \n",
    "    prob_train=lr.predict_proba(X_train)\n",
    "    train_ll=log_loss(y_train,prob_train)\n",
    "    \n",
    "    pred_train=lr.predict(X_train)\n",
    "    train_acc=np.mean(pred_train==y_train)\n",
    "    \n",
    "    X_test=sample_test.iloc[:,:-1]\n",
    "    y_test=sample_test.iloc[:,-1]\n",
    "    \n",
    "    prob_test=lr.predict_proba(X_test)\n",
    "    test_ll=log_loss(y_test,prob_test)\n",
    "    \n",
    "    pred_test=lr.predict(X_test)\n",
    "    test_acc=np.mean(pred_test==y_test)\n",
    "    \n",
    "    return train_ll,test_ll,train_acc,test_acc"
   ]
  },
  {
   "cell_type": "code",
   "execution_count": 565,
   "metadata": {},
   "outputs": [
    {
     "name": "stdout",
     "output_type": "stream",
     "text": [
      "Running Time is 2.5677989999999227s\n"
     ]
    }
   ],
   "source": [
    "start=time.clock()\n",
    "train_ll,test_ll,train_acc,test_acc=LR_sklearn(sample_train,sample_test)\n",
    "end=time.clock()\n",
    "print('Running Time is {}s'.format(end-start))"
   ]
  },
  {
   "cell_type": "code",
   "execution_count": 566,
   "metadata": {},
   "outputs": [
    {
     "name": "stdout",
     "output_type": "stream",
     "text": [
      "The log loss error on the training data is: 0.21161741994204686\n",
      "The accuracy on the training data is: 0.9073453215483085\n",
      "\n",
      "The log loss error on the test data is: 0.2825727530353986\n",
      "The accuracy on the test data is: 0.8836075563680682\n"
     ]
    }
   ],
   "source": [
    "print('The log loss error on the training data is:',train_ll)\n",
    "print('The accuracy on the training data is:',train_acc)\n",
    "print('')\n",
    "print('The log loss error on the test data is:',test_ll)\n",
    "print('The accuracy on the test data is:',test_acc)"
   ]
  },
  {
   "cell_type": "markdown",
   "metadata": {},
   "source": [
    "### Comparison between our model and sciket-learn model:\n",
    "#### 1. Runnung time: our model use about 6 seconds to converge while sciket-learn only use 2.5 seconds\n",
    "#### 2. Training dataset: our log loss error(0.2) is slightly better than sciket-learn model(0.21), and our accuracy(91%) is a also better than sciket-learn model(90%) \n",
    "#### 3. Testing dataset: our model is 0.3 while the scikit-learn model is 0.28. As for accuracy, our model is 87% while the scikit-learn model is 88%.\n",
    "#### Overall, the results of the 2 models do not have significant difference"
   ]
  },
  {
   "cell_type": "markdown",
   "metadata": {},
   "source": [
    "### Adding regularization term"
   ]
  },
  {
   "cell_type": "markdown",
   "metadata": {},
   "source": [
    "Adding regularization term is a method that can shrink the coefficient ewtimates toward zero, which can improve the results.\n",
    "There are two popular methods: Ridge regression and Lasso (The penalty term in Lasso can force some coefficients end up being set to exactly zero, while ridge regression can not)"
   ]
  },
  {
   "cell_type": "markdown",
   "metadata": {},
   "source": [
    "#### Ridge Logistic Regression with l2 penalty in scikit-learn"
   ]
  },
  {
   "cell_type": "code",
   "execution_count": 57,
   "metadata": {
    "collapsed": true
   },
   "outputs": [],
   "source": [
    "def RidgeLR(sample_train,sample_test,params):\n",
    "    X_train=sample_train.iloc[:,:-1]\n",
    "    y_train=sample_train.iloc[:,-1]\n",
    "    \n",
    "    lrcv=LogisticRegressionCV(Cs=params,fit_intercept=True,cv=10,penalty='l2',scoring=None,solver='liblinear', tol=0.0001,class_weight=None,n_jobs=1,verbose=0,refit=True,multi_class='ovr',random_state=None)\n",
    "    lrcv.fit(X_train,y_train)\n",
    "    \n",
    "    prob_train=lrcv.predict_proba(X_train)\n",
    "    train_ll=log_loss(y_train,prob_train)\n",
    "    \n",
    "    pred_train=lrcv.predict(X_train)\n",
    "    train_acc=np.mean(pred_train==y_train)\n",
    "\n",
    "    X_test=sample_test.iloc[:,:-1]\n",
    "    y_test=sample_test.iloc[:,-1]\n",
    "    \n",
    "    prob_test=lrcv.predict_proba(X_test)\n",
    "    test_ll=log_loss(y_test,prob_test)\n",
    "    \n",
    "    pred_test=lrcv.predict(X_test)\n",
    "    test_acc=np.mean(pred_test==y_test)\n",
    "    \n",
    "    return train_ll,test_ll,train_acc,test_acc"
   ]
  },
  {
   "cell_type": "code",
   "execution_count": 568,
   "metadata": {},
   "outputs": [
    {
     "name": "stdout",
     "output_type": "stream",
     "text": [
      "Running Time is 65.02961700000014s\n"
     ]
    }
   ],
   "source": [
    "start=time.clock()\n",
    "train_ll,test_ll,train_acc,test_acc=RidgeLR(sample_train,sample_test,[0.05,0.1,0.2,0.3])\n",
    "end=time.clock()\n",
    "print('Running Time is {}s'.format(end-start))"
   ]
  },
  {
   "cell_type": "code",
   "execution_count": 569,
   "metadata": {},
   "outputs": [
    {
     "name": "stdout",
     "output_type": "stream",
     "text": [
      "The log loss error on the training data is: 0.23682541204814206\n",
      "The accuracy on the training data is: 0.8982017677537336\n",
      "\n",
      "The log loss error on the test data is: 0.2632988163836154\n",
      "The accuracy on the test data is: 0.8817794028031688\n"
     ]
    }
   ],
   "source": [
    "print('The log loss error on the training data is:',train_ll)\n",
    "print('The accuracy on the training data is:',train_acc)\n",
    "print('')\n",
    "print('The log loss error on the test data is:',test_ll)\n",
    "print('The accuracy on the test data is:',test_acc)"
   ]
  },
  {
   "cell_type": "markdown",
   "metadata": {},
   "source": [
    "#### Lasso Logistic Regression with l1 penalty in scikit-learn"
   ]
  },
  {
   "cell_type": "code",
   "execution_count": 32,
   "metadata": {
    "collapsed": true
   },
   "outputs": [],
   "source": [
    "def LassoLR(sample_train,sample_test,params):\n",
    "    X_train=sample_train.iloc[:,:-1]\n",
    "    y_train=sample_train.iloc[:,-1]\n",
    "    \n",
    "    lrcv=LogisticRegressionCV(Cs=params,fit_intercept=True,cv=10,penalty='l1',scoring=None,solver='liblinear', tol=0.0001,class_weight=None,n_jobs=1,verbose=0,refit=True,multi_class='ovr',random_state=None)\n",
    "    lrcv.fit(X_train,y_train)\n",
    "    \n",
    "    prob_train=lrcv.predict_proba(X_train)\n",
    "    train_ll=log_loss(y_train,prob_train)\n",
    "    \n",
    "    pred_train=lrcv.predict(X_train)\n",
    "    train_acc=np.mean(pred_train==y_train)\n",
    "\n",
    "    X_test=sample_test.iloc[:,:-1]\n",
    "    y_test=sample_test.iloc[:,-1]\n",
    "    \n",
    "    prob_test=lrcv.predict_proba(X_test)\n",
    "    test_ll=log_loss(y_test,prob_test)\n",
    "    \n",
    "    pred_test=lrcv.predict(X_test)\n",
    "    test_acc=np.mean(pred_test==y_test)\n",
    "    \n",
    "    return train_ll,test_ll,train_acc,test_acc"
   ]
  },
  {
   "cell_type": "code",
   "execution_count": 571,
   "metadata": {},
   "outputs": [
    {
     "name": "stdout",
     "output_type": "stream",
     "text": [
      "Running Time is 17.296217999999953s\n"
     ]
    }
   ],
   "source": [
    "start=time.clock()\n",
    "train_ll,test_ll,train_acc,test_acc=LassoLR(sample_train,sample_test,[0.1,0.2,0.3,0.4])\n",
    "end=time.clock()\n",
    "print('Running Time is {}s'.format(end-start))"
   ]
  },
  {
   "cell_type": "code",
   "execution_count": 572,
   "metadata": {},
   "outputs": [
    {
     "name": "stdout",
     "output_type": "stream",
     "text": [
      "The log loss error on the training data is: 0.24248758595508996\n",
      "The accuracy on the training data is: 0.8943919536726608\n",
      "\n",
      "The log loss error on the test data is: 0.2645866604860815\n",
      "The accuracy on the test data is: 0.8781230956733699\n"
     ]
    }
   ],
   "source": [
    "print('The log loss error on the training data is:',train_ll)\n",
    "print('The accuracy on the training data is:',train_acc)\n",
    "print('')\n",
    "print('The log loss error on the test data is:',test_ll)\n",
    "print('The accuracy on the test data is:',test_acc)"
   ]
  },
  {
   "cell_type": "markdown",
   "metadata": {},
   "source": [
    "### Comparison the resuts between L1 regularization, L2 regularization and non-regularization (sciket-learn model)\n",
    "#### 1. Training dataset: the model without regularization term has better log loss(0.21) and accuracy(90%)\n",
    "#### 2. Testing dataset: the model with L1 penalty has the best log loss(0.26). The accuracy between these 3 models are similar(87%)\n",
    "#### To sum up, although the training log loss will become worse, we can still get a better testing log loss by adding regularization term."
   ]
  },
  {
   "cell_type": "markdown",
   "metadata": {},
   "source": [
    "### Now, we are going to try different $\\lambda$ for our regularization parameter"
   ]
  },
  {
   "cell_type": "markdown",
   "metadata": {},
   "source": [
    "#### L1 penalty"
   ]
  },
  {
   "cell_type": "code",
   "execution_count": 34,
   "metadata": {
    "collapsed": true
   },
   "outputs": [],
   "source": [
    "sample_train,sample_test=resample(model_data,0.7)"
   ]
  },
  {
   "cell_type": "code",
   "execution_count": 43,
   "metadata": {},
   "outputs": [],
   "source": [
    "train_ll_list=[]\n",
    "test_ll_list=[]\n",
    "for i in np.arange(0.1,0.81,0.01):\n",
    "    train_ll,test_ll,_,_=LassoLR(sample_train,sample_test,[i])\n",
    "    train_ll_list.append(train_ll)\n",
    "    test_ll_list.append(test_ll)"
   ]
  },
  {
   "cell_type": "code",
   "execution_count": 55,
   "metadata": {},
   "outputs": [
    {
     "data": {
      "text/plain": [
       "Text(0.5,1,'Using L1 Regularization')"
      ]
     },
     "execution_count": 55,
     "metadata": {},
     "output_type": "execute_result"
    },
    {
     "data": {
      "image/png": "[encoded data removed]",
      "text/plain": [
       "<matplotlib.figure.Figure at 0x1a0bbc1080>"
      ]
     },
     "metadata": {},
     "output_type": "display_data"
    }
   ],
   "source": [
    "plt.figure(figsize=(12,10))\n",
    "plt.plot(np.arange(0.1,0.8,0.01),train_ll_list,color='orange',label='Training log loss')\n",
    "plt.plot(np.arange(0.1,0.8,0.01),test_ll_list,color='blue',label='Test log loss')\n",
    "plt.xlabel('lambda')\n",
    "plt.ylabel('log loss error')\n",
    "plt.scatter(np.arange(0.1,0.8,0.01)[test_ll_list.index(min(test_ll_list))],min(test_ll_list),color='red',label='log loss error={:.5f}'.format(min(test_ll_list)))\n",
    "plt.legend(loc='best')\n",
    "plt.title('Using L1 Regularization')"
   ]
  },
  {
   "cell_type": "markdown",
   "metadata": {},
   "source": [
    "#### L2 penalty"
   ]
  },
  {
   "cell_type": "code",
   "execution_count": 62,
   "metadata": {},
   "outputs": [],
   "source": [
    "train_ll_list2=[]\n",
    "test_ll_list2=[]\n",
    "for i in np.arange(0.01,0.2,0.01):\n",
    "    train_ll,test_ll,_,_=RidgeLR(sample_train,sample_test,[i])\n",
    "    train_ll_list2.append(train_ll)\n",
    "    test_ll_list2.append(test_ll)"
   ]
  },
  {
   "cell_type": "code",
   "execution_count": 63,
   "metadata": {},
   "outputs": [
    {
     "data": {
      "text/plain": [
       "Text(0.5,1,'Using L2 Regularization')"
      ]
     },
     "execution_count": 63,
     "metadata": {},
     "output_type": "execute_result"
    },
    {
     "data": {
      "image/png": "[encoded data removed]",
      "text/plain": [
       "<matplotlib.figure.Figure at 0x1083e8c50>"
      ]
     },
     "metadata": {},
     "output_type": "display_data"
    }
   ],
   "source": [
    "plt.figure(figsize=(12,10))\n",
    "plt.plot(np.arange(0.01,0.2,0.01),train_ll_list2,color='orange',label='Training log loss')\n",
    "plt.plot(np.arange(0.01,0.2,0.01),test_ll_list2,color='blue',label='Test log loss')\n",
    "plt.xlabel('lambda')\n",
    "plt.ylabel('log loss error')\n",
    "plt.scatter(np.arange(0.01,0.2,0.01)[test_ll_list2.index(min(test_ll_list2))],min(test_ll_list2),color='red',label='log loss error={:.5f}'.format(min(test_ll_list2)))\n",
    "plt.legend(loc='best')\n",
    "plt.title('Using L2 Regularization')"
   ]
  },
  {
   "cell_type": "markdown",
   "metadata": {},
   "source": [
    "#### In general, training log loss always decline as lambda increases. However, test log loss shows a U-shape. It declines at first, then start to increase again. As the testing log loss increase, it means the model starts overfitting. "
   ]
  },
  {
   "cell_type": "markdown",
   "metadata": {},
   "source": [
    "### The comparison between regularized model and non-regularized model"
   ]
  },
  {
   "cell_type": "markdown",
   "metadata": {},
   "source": [
    "Resample training data and test data in each experiment."
   ]
  },
  {
   "cell_type": "code",
   "execution_count": 68,
   "metadata": {},
   "outputs": [],
   "source": [
    "reg_ll=[]\n",
    "reg_ll2=[]\n",
    "nreg_ll=[]\n",
    "for i in range(20):\n",
    "    sample_train,sample_test=resample(model_data,0.7)\n",
    "\n",
    "    _,reg_test_ll,_,_=LassoLR(sample_train,sample_test,[0.3])\n",
    "    \n",
    "    _,reg_test_ll2,_,_=RidgeLR(sample_train,sample_test,[0.06])\n",
    "        \n",
    "    _,nreg_test_ll,_,_=LR_sklearn(sample_train,sample_test)\n",
    "    \n",
    "    reg_ll.append(reg_test_ll)   \n",
    "\n",
    "    reg_ll2.append(reg_test_ll2)\n",
    "\n",
    "    nreg_ll.append(nreg_test_ll)"
   ]
  },
  {
   "cell_type": "code",
   "execution_count": 79,
   "metadata": {},
   "outputs": [
    {
     "data": {
      "text/plain": [
       "<matplotlib.legend.Legend at 0x1a0c5faa58>"
      ]
     },
     "execution_count": 79,
     "metadata": {},
     "output_type": "execute_result"
    },
    {
     "data": {
      "image/png": "[encoded data removed]",
      "text/plain": [
       "<matplotlib.figure.Figure at 0x1a0c3b1f28>"
      ]
     },
     "metadata": {},
     "output_type": "display_data"
    }
   ],
   "source": [
    "plt.figure(figsize=(12,10))\n",
    "plt.plot(range(20),reg_ll,label='L1 Regularized model',color='orange')\n",
    "plt.plot(range(20),reg_ll2,label='L2 Regularized model',color='red')\n",
    "plt.plot(range(20),nreg_ll,label='Non-regularized model',color='blue')\n",
    "\n",
    "plt.xlabel('Experiments')\n",
    "plt.ylabel('Test log loss error')\n",
    "plt.xticks([i for i in range(20)])\n",
    "plt.title('The comparison between regularized model and non-regularized model')\n",
    "plt.legend(loc='best')"
   ]
  },
  {
   "cell_type": "markdown",
   "metadata": {},
   "source": [
    "#### After conducting mutiple experiments, we can see that L1 regularization model can mostly get better results"
   ]
  },
  {
   "cell_type": "markdown",
   "metadata": {
    "collapsed": true
   },
   "source": [
    "## Probability threshold tuning (Default is 0.5)"
   ]
  },
  {
   "cell_type": "markdown",
   "metadata": {},
   "source": [
    "#### Now we are going to use different probability threshold to define poor status and compare the results"
   ]
  },
  {
   "cell_type": "code",
   "execution_count": 83,
   "metadata": {
    "collapsed": true
   },
   "outputs": [],
   "source": [
    "sample_train,sample_test=resample(model_data,0.7)"
   ]
  },
  {
   "cell_type": "code",
   "execution_count": 84,
   "metadata": {
    "collapsed": true
   },
   "outputs": [],
   "source": [
    "def show_result(train_ll,test_ll,train_sensitivity,test_sensitivity,train_specificity,test_specificity,train_acc,test_acc,train_matrix,test_matrix):\n",
    "    print('Training log loss error is:',train_ll)\n",
    "    print('Test log loss error is:',test_ll)\n",
    "    print('')\n",
    "    print('Sensitivity on training data is',train_sensitivity)\n",
    "    print('Sensitivity on test data is',test_sensitivity)\n",
    "    print('')\n",
    "    print('Specificity on training data is',train_specificity)\n",
    "    print('Specificity on test data is',test_specificity)\n",
    "    print('')\n",
    "    print('Accuracy on training data is',train_acc)\n",
    "    print('Accuracy on test data is',test_acc)    \n",
    "    print('')\n",
    "    print('Confusion matrix on training data is')\n",
    "    print(train_matrix)\n",
    "    print('')\n",
    "    print('Confusion matrix on test data is')\n",
    "    print(test_matrix)"
   ]
  },
  {
   "cell_type": "code",
   "execution_count": 85,
   "metadata": {
    "collapsed": true
   },
   "outputs": [],
   "source": [
    "def LassoLR_threshold(sample_train,sample_test,params,threshold):\n",
    "    X_train=sample_train.iloc[:,:-1]\n",
    "    y_train=sample_train.iloc[:,-1]\n",
    "    \n",
    "    lrcv=LogisticRegressionCV(Cs=params,fit_intercept=True,cv=10,penalty='l1',scoring=None,solver='liblinear', tol=0.0001,class_weight=None,n_jobs=1,verbose=0,refit=True,multi_class='ovr',random_state=None)\n",
    "    lrcv.fit(X_train,y_train)\n",
    "    \n",
    "    prob_train=lrcv.predict_proba(X_train)\n",
    "    train_ll=log_loss(y_train,prob_train)\n",
    "    \n",
    "#    pred_train=lrcv.predict(X_train)\n",
    "    pred_train=(prob_train[:,-1]>threshold)*1\n",
    "    train_tn, train_fp, train_fn, train_tp=confusion_matrix(y_train.values,pred_train).ravel()\n",
    "    train_acc=np.mean(pred_train==y_train)\n",
    "\n",
    "    X_test=sample_test.iloc[:,:-1]\n",
    "    y_test=sample_test.iloc[:,-1]\n",
    "    \n",
    "    prob_test=lrcv.predict_proba(X_test)\n",
    "    test_ll=log_loss(y_test,prob_test)\n",
    "    \n",
    "#    pred_test=lrcv.predict(X_test)\n",
    "    pred_test=(prob_test[:,-1]>threshold)*1\n",
    "    test_tn, test_fp, test_fn, test_tp=confusion_matrix(y_test.values,pred_test).ravel()\n",
    "    test_acc=np.mean(pred_test==y_test)\n",
    "\n",
    "    train_matrix=pd.DataFrame({'Predicted: Not Poor':[train_tn, train_fn],'Predicted: Poor':[train_fp, train_tp]},index=['Actual: Not Poor','Actual: Poor'])\n",
    "    \n",
    "    test_matrix=pd.DataFrame({'Predicted: Not Poor':[test_tn, test_fn],'Predicted: Poor':[test_fp, test_tp]},index=['Actual: Not Poor','Actual: Poor'])\n",
    "    \n",
    "    train_sensitivity=train_tp/(train_tp+train_fn)\n",
    "    train_specificity=train_tn/(train_tn+train_fp)\n",
    "    \n",
    "    test_sensitivity=test_tp/(test_tp+test_fn)\n",
    "    test_specificity=test_tn/(test_tn+test_fp)\n",
    "    \n",
    "    show_result(train_ll,test_ll,train_sensitivity,test_sensitivity,train_specificity,test_specificity,train_acc,test_acc,train_matrix,test_matrix)"
   ]
  },
  {
   "cell_type": "markdown",
   "metadata": {},
   "source": [
    "### Threshold is 0.5"
   ]
  },
  {
   "cell_type": "code",
   "execution_count": 86,
   "metadata": {},
   "outputs": [
    {
     "name": "stdout",
     "output_type": "stream",
     "text": [
      "Training log loss error is: 0.2397511077006199\n",
      "Test log loss error is: 0.2686667285971981\n",
      "\n",
      "Sensitivity on training data is 0.8929384965831435\n",
      "Sensitivity on test data is 0.8709073900841908\n",
      "\n",
      "Specificity on training data is 0.8986486486486487\n",
      "Specificity on test data is 0.8864942528735632\n",
      "\n",
      "Accuracy on training data is 0.8960292580982236\n",
      "Accuracy on test data is 0.8797236895570906\n",
      "\n",
      "Confusion matrix on training data is\n",
      "                  Predicted: Not Poor  Predicted: Poor\n",
      "Actual: Not Poor                 2793              315\n",
      "Actual: Poor                      282             2352\n",
      "\n",
      "Confusion matrix on test data is\n",
      "                  Predicted: Not Poor  Predicted: Poor\n",
      "Actual: Not Poor                 1234              158\n",
      "Actual: Poor                      138              931\n"
     ]
    }
   ],
   "source": [
    "LassoLR_threshold(sample_train,sample_test,[0.2,0.3,0.4],0.5)"
   ]
  },
  {
   "cell_type": "markdown",
   "metadata": {},
   "source": [
    "### Threshold is 0.6 "
   ]
  },
  {
   "cell_type": "code",
   "execution_count": 87,
   "metadata": {},
   "outputs": [
    {
     "name": "stdout",
     "output_type": "stream",
     "text": [
      "Training log loss error is: 0.2396601880830118\n",
      "Test log loss error is: 0.2686728139627613\n",
      "\n",
      "Sensitivity on training data is 0.8443432042520881\n",
      "Sensitivity on test data is 0.8269410664172123\n",
      "\n",
      "Specificity on training data is 0.9324324324324325\n",
      "Specificity on test data is 0.9195402298850575\n",
      "\n",
      "Accuracy on training data is 0.8920236851271334\n",
      "Accuracy on test data is 0.8793173506704591\n",
      "\n",
      "Confusion matrix on training data is\n",
      "                  Predicted: Not Poor  Predicted: Poor\n",
      "Actual: Not Poor                 2898              210\n",
      "Actual: Poor                      410             2224\n",
      "\n",
      "Confusion matrix on test data is\n",
      "                  Predicted: Not Poor  Predicted: Poor\n",
      "Actual: Not Poor                 1280              112\n",
      "Actual: Poor                      185              884\n"
     ]
    }
   ],
   "source": [
    "LassoLR_threshold(sample_train,sample_test,[0.2,0.3,0.4],0.6)"
   ]
  },
  {
   "cell_type": "markdown",
   "metadata": {},
   "source": [
    "### Threshold is 0.7"
   ]
  },
  {
   "cell_type": "code",
   "execution_count": 88,
   "metadata": {},
   "outputs": [
    {
     "name": "stdout",
     "output_type": "stream",
     "text": [
      "Training log loss error is: 0.2318109133475749\n",
      "Test log loss error is: 0.2684152192105784\n",
      "\n",
      "Sensitivity on training data is 0.7946089597570235\n",
      "Sensitivity on test data is 0.7801683816651076\n",
      "\n",
      "Specificity on training data is 0.9604247104247104\n",
      "Specificity on test data is 0.9418103448275862\n",
      "\n",
      "Accuracy on training data is 0.8843608498780913\n",
      "Accuracy on test data is 0.8715969118244616\n",
      "\n",
      "Confusion matrix on training data is\n",
      "                  Predicted: Not Poor  Predicted: Poor\n",
      "Actual: Not Poor                 2985              123\n",
      "Actual: Poor                      541             2093\n",
      "\n",
      "Confusion matrix on test data is\n",
      "                  Predicted: Not Poor  Predicted: Poor\n",
      "Actual: Not Poor                 1311               81\n",
      "Actual: Poor                      235              834\n"
     ]
    }
   ],
   "source": [
    "LassoLR_threshold(sample_train,sample_test,[0.2,0.3,0.4],0.7)"
   ]
  },
  {
   "cell_type": "markdown",
   "metadata": {},
   "source": [
    "#### From the results above, the accuracy for different threshold did not have much difference, which is around 87%. We can conclude that the model is pretty robust, which means we are confident with our classfication results."
   ]
  },
  {
   "cell_type": "markdown",
   "metadata": {},
   "source": [
    "## Lesson Learn"
   ]
  },
  {
   "cell_type": "markdown",
   "metadata": {},
   "source": [
    "#### 1. We succesfully implemented gradient descent to the logistic regression model and applied it to the real world dataset. The results we got are similar with the Python sciket-learn model"
   ]
  },
  {
   "cell_type": "markdown",
   "metadata": {},
   "source": [
    "#### 2. We applied the regularization term in logitic regression model and also tuned the lambda parameter. Adding regularizatin term can help us get better results on test dataset. As for the lambda parameter, it performs a U-shape on the testing log loss while lambda becomes larger"
   ]
  },
  {
   "cell_type": "markdown",
   "metadata": {},
   "source": [
    "#### 3. We used different probability threshhold to determine the poverty status. It comes out our model is pretty robust  because different threshold have similar results."
   ]
  },
  {
   "cell_type": "markdown",
   "metadata": {},
   "source": [
    "## Future Work"
   ]
  },
  {
   "cell_type": "markdown",
   "metadata": {},
   "source": [
    "#### To more clearly capture the nonlinear relationship between predictors and response, we can further introduce a method which combines GBDT(Gradient Boosting Decision Tree) with logistic regression to build our model. Specifically, GBDT can perform interactions over predictors and then input the transformed features into the logistic regression model."
   ]
  },
  {
   "cell_type": "code",
   "execution_count": null,
   "metadata": {},
   "outputs": [],
   "source": []
  }
 ],
 "metadata": {
  "kernelspec": {
   "display_name": "py36",
   "language": "python",
   "name": "py36"
  },
  "language_info": {
   "codemirror_mode": {
    "name": "ipython",
    "version": 3
   },
   "file_extension": ".py",
   "mimetype": "text/x-python",
   "name": "python",
   "nbconvert_exporter": "python",
   "pygments_lexer": "ipython3",
   "version": "3.6.3"
  }
 },
 "nbformat": 4,
 "nbformat_minor": 2
}
